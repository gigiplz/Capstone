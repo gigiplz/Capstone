{
  "nbformat": 4,
  "nbformat_minor": 0,
  "metadata": {
    "colab": {
      "provenance": [],
      "authorship_tag": "ABX9TyMo5E+14RtM7HQXfUi1OgP9",
      "include_colab_link": true
    },
    "kernelspec": {
      "name": "python3",
      "display_name": "Python 3"
    },
    "language_info": {
      "name": "python"
    }
  },
  "cells": [
    {
      "cell_type": "markdown",
      "metadata": {
        "id": "view-in-github",
        "colab_type": "text"
      },
      "source": [
        "<a href=\"https://colab.research.google.com/github/gigiplz/Capstone/blob/main/Untitled1.ipynb\" target=\"_parent\"><img src=\"https://colab.research.google.com/assets/colab-badge.svg\" alt=\"Open In Colab\"/></a>"
      ]
    },
    {
      "cell_type": "code",
      "source": [
        "from google.colab import drive\n",
        "drive.mount('/content/gdrive')"
      ],
      "metadata": {
        "colab": {
          "base_uri": "https://localhost:8080/"
        },
        "id": "h_5tr8qg55pj",
        "outputId": "9cf47ce9-c41e-48ff-baba-1ca3bf93945d"
      },
      "execution_count": 1,
      "outputs": [
        {
          "output_type": "stream",
          "name": "stdout",
          "text": [
            "Mounted at /content/gdrive\n"
          ]
        }
      ]
    },
    {
      "cell_type": "code",
      "execution_count": 2,
      "metadata": {
        "colab": {
          "base_uri": "https://localhost:8080/"
        },
        "id": "m3GxmewL54KO",
        "outputId": "fc90849f-71bb-4636-a29e-6ea93a17d5b0"
      },
      "outputs": [
        {
          "output_type": "stream",
          "name": "stderr",
          "text": [
            "100%|█████████▉| 1037/1038 [1:34:02<00:05,  5.44s/it]\n"
          ]
        }
      ],
      "source": [
        "import cv2\n",
        "import numpy as np\n",
        "import os\n",
        "import csv\n",
        "from tqdm import tqdm\n",
        "\n",
        "# COCO 모델 기준 BODY_PARTS와 POSE_PAIRS\n",
        "BODY_PARTS_COCO = {\n",
        "    0: \"Nose\", 1: \"Neck\", 2: \"RShoulder\", 3: \"RElbow\", 4: \"RWrist\",\n",
        "    5: \"LShoulder\", 6: \"LElbow\", 7: \"LWrist\", 8: \"RHip\", 9: \"RKnee\",\n",
        "    10: \"RAnkle\", 11: \"LHip\", 12: \"LKnee\", 13: \"LAnkle\", 14: \"REye\",\n",
        "    15: \"LEye\", 16: \"REar\", 17: \"LEar\"\n",
        "}\n",
        "\n",
        "POSE_PAIRS_COCO = [\n",
        "    [1, 2], [1, 5], [2, 3], [3, 4], [5, 6], [6, 7],\n",
        "    [1, 8], [8, 9], [9, 10], [1, 11], [11, 12], [12, 13],\n",
        "    [1, 0], [0, 14], [14, 16], [0, 15], [15, 17]\n",
        "]\n",
        "\n",
        "# 모델 경로\n",
        "protoFile = \"/content/gdrive/My Drive/openpose_test/pose_deploy_linevec.prototxt\"\n",
        "weightsFile = \"/content/gdrive/My Drive/openpose_test/pose_iter_440000.caffemodel\"\n",
        "\n",
        "# CSV 저장 경로 (영상 이름 기준)\n",
        "csv_path = \"/content/gdrive/My Drive/openpose_test/naruto_pose.csv\"\n",
        "\n",
        "# CSV 헤더 생성\n",
        "if not os.path.exists(csv_path):\n",
        "    with open(csv_path, 'w', newline='') as f:\n",
        "        writer = csv.writer(f)\n",
        "        writer.writerow(['Part', 'Confidence', 'X', 'Y'])\n",
        "\n",
        "# 네트워크 불러오기\n",
        "net_openpose = cv2.dnn.readNetFromCaffe(protoFile, weightsFile)\n",
        "\n",
        "# Colab에서는 CUDA 사용 불가할 수 있으므로 주석 처리함\n",
        "# net_openpose.setPreferableBackend(cv2.dnn.DNN_BACKEND_CUDA)\n",
        "# net_openpose.setPreferableTarget(cv2.dnn.DNN_TARGET_CUDA)\n",
        "\n",
        "# 비디오 경로\n",
        "video = \"/content/gdrive/My Drive/openpose_test/naruto.mp4\"\n",
        "capture = cv2.VideoCapture(video)\n",
        "total_frame = int(capture.get(cv2.CAP_PROP_FRAME_COUNT))\n",
        "\n",
        "points = []\n",
        "\n",
        "def output_keypoints(threshold, BODY_PARTS):\n",
        "    global points\n",
        "    net = net_openpose\n",
        "\n",
        "    image_height = 368\n",
        "    image_width = 368\n",
        "\n",
        "    input_blob = cv2.dnn.blobFromImage(frame, 1.0 / 255, (image_width, image_height), (0, 0, 0),\n",
        "                                       swapRB=False, crop=False)\n",
        "    net.setInput(input_blob)\n",
        "    out = net.forward()\n",
        "\n",
        "    out_height = out.shape[2]\n",
        "    out_width = out.shape[3]\n",
        "    frame_height, frame_width = frame.shape[:2]\n",
        "    points = []\n",
        "\n",
        "    for i in range(len(BODY_PARTS)):\n",
        "        prob_map = out[0, i, :, :]\n",
        "        _, prob, _, point = cv2.minMaxLoc(prob_map)\n",
        "\n",
        "        x = int((frame_width * point[0]) / out_width)\n",
        "        y = int((frame_height * point[1]) / out_height)\n",
        "\n",
        "        if prob > threshold:\n",
        "            cv2.circle(frame_openpose, (x, y), 5, (0, 255, 255), thickness=-1)\n",
        "            cv2.putText(frame_openpose, str(i), (x, y), cv2.FONT_HERSHEY_SIMPLEX, 0.6, (0, 0, 255), 1)\n",
        "            points.append((x, y))\n",
        "\n",
        "            with open(csv_path, 'a', newline='') as f:\n",
        "                wr = csv.writer(f)\n",
        "                wr.writerow([BODY_PARTS[i], prob, x, y])\n",
        "        else:\n",
        "            points.append(None)\n",
        "            with open(csv_path, 'a', newline='') as f:\n",
        "                wr = csv.writer(f)\n",
        "                wr.writerow([BODY_PARTS[i], 0, 0, 0])\n",
        "\n",
        "def output_keypoints_with_lines(POSE_PAIRS):\n",
        "    for pair in POSE_PAIRS:\n",
        "        partFrom = pair[0]\n",
        "        partTo = pair[1]\n",
        "\n",
        "        if points[partFrom] and points[partTo]:\n",
        "            cv2.line(frame_openpose, points[partFrom], points[partTo], (0, 255, 0), 2)\n",
        "\n",
        "# 프레임별 처리\n",
        "for now_frame in tqdm(range(total_frame)):\n",
        "    ret, frame = capture.read()\n",
        "    if not ret:\n",
        "        break\n",
        "\n",
        "    frame_openpose = frame.copy()\n",
        "    frame_zeros = np.zeros((frame.shape[0], frame.shape[1], 3), np.uint8)\n",
        "\n",
        "    output_keypoints(threshold=0.1, BODY_PARTS=BODY_PARTS_COCO)\n",
        "    output_keypoints_with_lines(POSE_PAIRS=POSE_PAIRS_COCO)\n",
        "\n",
        "    # 이미지 저장\n",
        "    cv2.imwrite(f\"/content/gdrive/My Drive/openpose_test/test{now_frame:04d}.jpg\", frame_openpose)\n",
        "\n",
        "capture.release()"
      ]
    }
  ]
}